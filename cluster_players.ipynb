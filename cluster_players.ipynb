{
 "cells": [
  {
   "cell_type": "markdown",
   "source": [
    "# WNBA Tutorial for K-means and PCA\n",
    "\n",
    "## Caveats\n",
    "\n",
    "I'm a casual fan and can't say I'm familiar with every player let alone basketball strategy, so please take my analysis with a grain of salt.\n",
    "\n",
    "## Goals\n",
    "\n",
    "Looking at an easy-to-obtain data set to lean how one might use scikit-learn to perform K-means clustering and principal component analysis (PCA)."
   ],
   "metadata": {
    "collapsed": false
   },
   "id": "a5226f01f82a9640"
  },
  {
   "cell_type": "code",
   "execution_count": null,
   "outputs": [],
   "source": [
    "import pandas as pd\n",
    "import matplotlib.pyplot as plt\n",
    "from sklearn.cluster import KMeans\n",
    "from sklearn.decomposition import PCA"
   ],
   "metadata": {
    "collapsed": false
   },
   "id": "initial_id"
  },
  {
   "cell_type": "markdown",
   "source": [
    "## Data Source\n",
    "\n",
    "I exported this dataset from here: [WNBA 2023 Stats](https://www.basketball-reference.com/wnba/years/2023_totals.html)\n",
    "\n",
    "At the top of the table, open \"Share & Export\" -> \"Get table as csv (for Excel)\""
   ],
   "metadata": {
    "collapsed": false
   },
   "id": "1ed57ed9f73d8c8e"
  },
  {
   "cell_type": "code",
   "execution_count": null,
   "outputs": [],
   "source": [
    "player_stats = pd.read_csv('wnba_2023_per_game.csv')\n",
    "player_stats"
   ],
   "metadata": {
    "collapsed": false
   },
   "id": "189869e16dad8eaa"
  },
  {
   "cell_type": "markdown",
   "source": [
    "## Reducing the Table\n",
    "\n",
    "There are a variety of ways one could reduce the data, but I decided to take out all text and stats related to games played, minutes, attempts, and percentages. So what's left are stats that simply just increase as the game goes on."
   ],
   "metadata": {
    "collapsed": false
   },
   "id": "504582f0e7f57247"
  },
  {
   "cell_type": "code",
   "execution_count": null,
   "outputs": [],
   "source": [
    "player_stats_15 = player_stats[player_stats['MP.1'].astype(float) > 15]\n",
    "ps = player_stats_15.drop(['Player', 'Team', 'Pos', 'G', 'MP', 'G.1', 'GS', 'MP.1', 'FG', 'FGA', 'FG%', '3PA', '3P%', '2PA', '2P%', 'FTA', 'FT%'], axis=1)\n",
    "num_vars = len(ps.columns)\n",
    "ps\n",
    "\n",
    "# While I think this would be good in the future, I had a harder time making\n",
    "# sense of these stats that are normalized per minute played\n",
    "# ps_pm = ps.div(player_stats_15['MP.1'], axis=0)\n",
    "# ps_pm"
   ],
   "metadata": {
    "collapsed": false
   },
   "id": "69fff38af9fec1d8"
  },
  {
   "cell_type": "markdown",
   "source": [
    "## Normalize\n",
    "\n",
    "So that certains columsn don't dominate based on magnitude, we normalize each of the columns before the analysis"
   ],
   "metadata": {
    "collapsed": false
   },
   "id": "f678316c424928af"
  },
  {
   "cell_type": "code",
   "execution_count": null,
   "outputs": [],
   "source": [
    "ps_norm = (ps - ps.mean()) / ps.std()\n",
    "# ps_norm = (ps_pm - ps_pm.mean()) / ps_pm.std()\n",
    "ps_norm = ps_norm.fillna(0)\n",
    "ps_norm"
   ],
   "metadata": {
    "collapsed": false
   },
   "id": "8ded0e199ff2fb06"
  },
  {
   "cell_type": "markdown",
   "source": [
    "## Clustering\n",
    "\n",
    "I played with this a bit to determine the values I wanted to use for the number of clusters and components, and it seems 5 clusters gives us a reasonable assortment of player categories while the explained variance is low after 6 dimensions and lowers further after 8. So I think 6 or 8 is a reasonable value. (See the supplemental section for how you could check and plot this.)\n",
    "\n",
    "The plot is basically taking the two most explanatory reduced dimensions and plotting where each player falls on a 2D visualization. This is a good way to visually see how the clusters appear and consider potential overlaps."
   ],
   "metadata": {
    "collapsed": false
   },
   "id": "eedc778faa19d522"
  },
  {
   "cell_type": "code",
   "execution_count": null,
   "outputs": [],
   "source": [
    "num_clusters = 5\n",
    "comps = 7\n",
    "cluster = KMeans(n_clusters=num_clusters, random_state=444).fit(PCA(n_components=comps, whiten=False).fit_transform(ps_norm))\n",
    "ps_norm['CLSTR'] = cluster.labels_\n",
    "pca_2 = PCA(comps)\n",
    "plot_columns = pca_2.fit_transform(ps_norm)\n",
    "plt.scatter(x=plot_columns[:,0], y=plot_columns[:,1], c=cluster.labels_, cmap=\"coolwarm\")"
   ],
   "metadata": {
    "collapsed": false
   },
   "id": "d9f135ab757797fe"
  },
  {
   "cell_type": "code",
   "execution_count": null,
   "outputs": [],
   "source": [
    "ps_named = ps.copy()\n",
    "ps_named['CLSTR'] = cluster.labels_\n",
    "ps_named['NAME'] = player_stats.Player\n",
    "ps_named['MINS'] = player_stats['MP.1']\n",
    "\n",
    "ps_norm_named = ps_norm.copy()\n",
    "ps_norm_named['NAME'] = player_stats.Player\n",
    "ps_norm_named[['NAME', 'CLSTR']]"
   ],
   "metadata": {
    "collapsed": false
   },
   "id": "82d3b27b2d362b38"
  },
  {
   "cell_type": "code",
   "execution_count": null,
   "outputs": [],
   "source": [
    "c_aves = ps_named.loc[:, [c for c in ps_named.columns if c != 'NAME']].groupby('CLSTR').mean()\n",
    "c_aves"
   ],
   "metadata": {
    "collapsed": false
   },
   "id": "97ff18414f71efde"
  },
  {
   "cell_type": "code",
   "execution_count": null,
   "outputs": [],
   "source": [
    "ps_named[['NAME', 'MINS', 'PTS', 'CLSTR']].sort_values(by='MINS', ascending=False)"
   ],
   "metadata": {
    "collapsed": false
   },
   "id": "348c68a5e93b34a5"
  },
  {
   "cell_type": "code",
   "execution_count": null,
   "outputs": [],
   "source": [
    "ps_named[['NAME', 'MINS', 'PTS', 'CLSTR']].groupby('CLSTR').apply(lambda x: x.nlargest(4, 'MINS'), include_groups=False)"
   ],
   "metadata": {
    "collapsed": false
   },
   "id": "ce3ba5869e4e7059"
  },
  {
   "cell_type": "markdown",
   "source": [
    "Based on my limited knowledge of basketball and the W, here are some general comments:\n",
    "\n",
    "* You may notice that the results change if you run it multiple times - this is by design. Even if you set a random seed, by default the algorithm is going to run the clustering multiple times and return the \"best\" result. \n",
    "* Here are some common groupings I've seen come up multiple times:\n",
    "    * Elite Assisters (AST > 5, like Natasha Cloud and Courtney Vandersloot)\n",
    "    * 3-Point Specialists (3P > 2, like Jewel Loyd and Sabrina Ionescu)\n",
    "    * Bigs who block (BLK > 1, like Brittney Griner and Aliyah Boston)\n",
    "    * Bigs who play like forwards (AST > 3, 3P > 1, like Stewie and A'ja Wilson)\n",
    "* When you don't have the optimal number of clusters, sometimes you'll get a messy overlap of groups; I've seen elite assisters come up but its size is only, say, 5 players when they'd probably fit in fine with the 3-Point Specialists in general who also have higher (but not quite as high) assist values\n",
    "* If I did this again, I'd probably try to normalize the stats by minutes played because I don't like that a common group is simply players who play less minutes and have generally lower magnitude stats overall"
   ],
   "metadata": {
    "collapsed": false
   },
   "id": "6d31155a4b809b62"
  },
  {
   "cell_type": "markdown",
   "source": [
    "## Supplemental\n",
    "\n",
    "If you're intersted in the explained variance ratio for the PCA, here are some ways to visualize it"
   ],
   "metadata": {
    "collapsed": false
   },
   "id": "2e7dc29e7e2d27f7"
  },
  {
   "cell_type": "code",
   "execution_count": null,
   "outputs": [],
   "source": [
    "pca_2.explained_variance_ratio_"
   ],
   "metadata": {
    "collapsed": false
   },
   "id": "6ee00f89bfb044d4"
  },
  {
   "cell_type": "code",
   "execution_count": null,
   "outputs": [],
   "source": [
    "explained_variance_ratio = pca_2.explained_variance_ratio_\n",
    "plt.plot(range(1, len(explained_variance_ratio) + 1), explained_variance_ratio.cumsum(), marker='o')\n",
    "plt.xlabel('Number of Components')\n",
    "plt.ylabel('Cumulative Explained Variance')\n",
    "plt.show()"
   ],
   "metadata": {
    "collapsed": false
   },
   "id": "bbe1f13a4e42177"
  },
  {
   "cell_type": "code",
   "execution_count": null,
   "outputs": [],
   "source": [],
   "metadata": {
    "collapsed": false
   },
   "id": "aafe076e3d09f44e"
  }
 ],
 "metadata": {
  "kernelspec": {
   "display_name": "Python 3",
   "language": "python",
   "name": "python3"
  },
  "language_info": {
   "codemirror_mode": {
    "name": "ipython",
    "version": 2
   },
   "file_extension": ".py",
   "mimetype": "text/x-python",
   "name": "python",
   "nbconvert_exporter": "python",
   "pygments_lexer": "ipython2",
   "version": "2.7.6"
  }
 },
 "nbformat": 4,
 "nbformat_minor": 5
}
